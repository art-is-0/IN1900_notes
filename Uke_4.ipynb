{
 "cells": [
  {
   "cell_type": "markdown",
   "metadata": {},
   "source": [
    "### `type()`\n",
    "Dere skal jobbe med user-input nå, og da kan det være litt vansklig å vite hva slags form dataen kommer til å være. For at dere kan teste dere fram så fins det en funksjon `type()` som gir tilbake typen til en input/variabel."
   ]
  },
  {
   "cell_type": "code",
   "execution_count": 1,
   "metadata": {},
   "outputs": [
    {
     "name": "stdout",
     "output_type": "stream",
     "text": [
      "<class 'str'>\n",
      "<class 'int'>\n",
      "<class 'float'>\n",
      "<class 'list'>\n"
     ]
    }
   ],
   "source": [
    "string = \"20.0\"\n",
    "integer = 20\n",
    "float_ = 20.0\n",
    "lst = [string, integer, float_]\n",
    "\n",
    "print(type(string))\n",
    "print(type(integer))\n",
    "print(type(float_))\n",
    "print(type(lst))"
   ]
  },
  {
   "cell_type": "markdown",
   "metadata": {},
   "source": [
    "### Endre typen\n",
    "Dere kan også bruke `eval()` for at den automatisk omgjør det til hvilken type den tror den er, eller bruke `float()`, `int()` til å spesifisere hvilken type det skal være."
   ]
  },
  {
   "cell_type": "code",
   "execution_count": null,
   "metadata": {},
   "outputs": [
    {
     "name": "stdout",
     "output_type": "stream",
     "text": [
      "Overwriting type_test.py\n"
     ]
    }
   ],
   "source": [
    "%%file type_test.py\n",
    "import sys\n",
    "\n",
    "a = float(sys.argv[1])\n",
    "b = eval(sys.argv[2]) \n",
    "c = int(sys.argv[3])\n",
    "print(a+b+c)\n",
    "print(type(a), type(b), type(c))"
   ]
  },
  {
   "cell_type": "code",
   "execution_count": 3,
   "metadata": {},
   "outputs": [
    {
     "name": "stdout",
     "output_type": "stream",
     "text": [
      "2.0\n",
      "<class 'float'> <class 'int'> <class 'int'>\n"
     ]
    }
   ],
   "source": [
    "%run type_test.py 1 -5 6"
   ]
  },
  {
   "cell_type": "markdown",
   "metadata": {},
   "source": [
    "### Installere moduler, med `pip`\n",
    "Flesteparten vil ikke ha slike problemer nå, de som bruker anakonda og spyder, har modulene allerede installert så de trenger ikke å bry seg så mye.\n",
    "\n",
    "Imens de som kun bruker python må bruke `pip` eller `pip3` for Mac, for å installere modullene. Du gjør det slikt;\n",
    "\n",
    "For windows\n",
    "```terminal\n",
    "pip install <modull-navnet>\n",
    "```\n",
    "For Mac\n",
    "```terminal\n",
    "pip3 install <modull-navnet>\n",
    "```"
   ]
  },
  {
   "cell_type": "markdown",
   "metadata": {},
   "source": [
    "### Gå gjennom mappene i terminalen\n",
    "Du kan bruke kommandoen `cd` i terminalen for å bevege deg fra mappe til mappe. For eksempel\n",
    "```terminal\n",
    "cd IN1900_notes\n",
    "```\n",
    "gjør at jeg beveger fra min nåværende mappe til IN1900_notes mappen.\n",
    "\n",
    "Om du ønsker å se hva som fins i den mappen din så kan du bruke kommandoen `ls` for å skrive ut alt som mappen inneholder, for eksempel;\n",
    "```terminal\n",
    "ls\n",
    "```\n",
    "Om du ønsker å gå tilbake en mappe så kan du bruke `cd ..`, to punktum for å gå tilbake. Og du kan la flere av disse sammen for å bevege deg gjennom flere mapper samtidig.\n",
    "```terminal\n",
    "cd ../Git_Repos/IN1900\n",
    "```\n",
    "Dette gjør at jeg går fra IN1900_notes mappen tilbake til mappen den ligger i og fra den mappen til Git_Repos og så til IN1900 mappen."
   ]
  },
  {
   "cell_type": "markdown",
   "metadata": {},
   "source": [
    "### Lese av filer\n",
    "Når du skal bruke VSCode og lese av filer gjennom Python, så krever det at du enten har filen i samme sted som koden og så kjøre gjennom terminalen eller så kan du gi spesifike koordinater til Python for hvor filen ligger."
   ]
  },
  {
   "cell_type": "code",
   "execution_count": 4,
   "metadata": {},
   "outputs": [
    {
     "ename": "NameError",
     "evalue": "name '__file__' is not defined",
     "output_type": "error",
     "traceback": [
      "\u001b[1;31m---------------------------------------------------------------------------\u001b[0m",
      "\u001b[1;31mNameError\u001b[0m                                 Traceback (most recent call last)",
      "Cell \u001b[1;32mIn[4], line 4\u001b[0m\n\u001b[0;32m      2\u001b[0m \u001b[38;5;28;01mimport\u001b[39;00m\u001b[38;5;250m \u001b[39m\u001b[38;5;21;01mos\u001b[39;00m\n\u001b[0;32m      3\u001b[0m \u001b[38;5;66;03m# Finner ut hvor filen ligger\u001b[39;00m\n\u001b[1;32m----> 4\u001b[0m filepath \u001b[38;5;241m=\u001b[39m os\u001b[38;5;241m.\u001b[39mpath\u001b[38;5;241m.\u001b[39mdirname(os\u001b[38;5;241m.\u001b[39mpath\u001b[38;5;241m.\u001b[39mabspath(\u001b[38;5;18;43m__file__\u001b[39;49m))\n\u001b[0;32m      5\u001b[0m \u001b[38;5;66;03m# Legger til fil navnet så den vet hvilken fil den skal lese av\u001b[39;00m\n\u001b[0;32m      6\u001b[0m data_path \u001b[38;5;241m=\u001b[39m os\u001b[38;5;241m.\u001b[39mpath\u001b[38;5;241m.\u001b[39mjoin(filepath, \u001b[38;5;124m'\u001b[39m\u001b[38;5;124mdata.txt\u001b[39m\u001b[38;5;124m'\u001b[39m)\n",
      "\u001b[1;31mNameError\u001b[0m: name '__file__' is not defined"
     ]
    }
   ],
   "source": [
    "# Importerer os\n",
    "import os\n",
    "# Finner ut hvor filen ligger\n",
    "filepath = os.path.dirname(os.path.abspath(__file__))\n",
    "# Legger til fil navnet så den vet hvilken fil den skal lese av\n",
    "data_path = os.path.join(filepath, 'data.txt')\n",
    "\n",
    "with open(data_path, 'r') as infile:\n",
    "    # Så gjør du det du ønsker med filen\n",
    "    pass"
   ]
  },
  {
   "cell_type": "markdown",
   "metadata": {},
   "source": [
    "Ellers så trenger du å åpne VSCode i mappen hvor både filen og koden ligger."
   ]
  },
  {
   "cell_type": "markdown",
   "metadata": {},
   "source": [
    "# try - except\n",
    "Du bruker `try` og `except` for å teste ut eller sjekke om en kode gir en feil melding. Koden du tror kommer til å gi en feil kode putter du i en `try` blokk. Og så kan du bruke `except` til å kjøre koden om du får en spesifikk feilmelding. Her skal vi prøve å fange en "
   ]
  },
  {
   "cell_type": "code",
   "execution_count": 5,
   "metadata": {},
   "outputs": [
    {
     "name": "stdout",
     "output_type": "stream",
     "text": [
      "Overwriting try_except.py\n"
     ]
    }
   ],
   "source": [
    "%%file try_except.py\n",
    "from sys import argv\n",
    "try:    \n",
    "    a = float(argv[1])\n",
    "except ValueError:\n",
    "    print(\"Input a number or desimal\")"
   ]
  },
  {
   "cell_type": "code",
   "execution_count": 6,
   "metadata": {},
   "outputs": [
    {
     "name": "stdout",
     "output_type": "stream",
     "text": [
      "Input a number or desimal\n"
     ]
    }
   ],
   "source": [
    "%run try_except.py a"
   ]
  },
  {
   "cell_type": "markdown",
   "metadata": {},
   "source": [
    "Så vi får ikke til å gjøre en bokstav til en float, og dermed vanligvis får man en `ValueError`, men koden kjører fortsatt."
   ]
  },
  {
   "cell_type": "markdown",
   "metadata": {},
   "source": [
    "# `raise`\n",
    "I tillegg så kan vi få feilmeldinger til å skje ved å bruke `raise` funksjonen. For eksempel har vi en kode hvor vi ønsker at $a > 0$,"
   ]
  },
  {
   "cell_type": "code",
   "execution_count": 7,
   "metadata": {},
   "outputs": [
    {
     "ename": "ValueError",
     "evalue": "Ingen verdier under 0.",
     "output_type": "error",
     "traceback": [
      "\u001b[1;31m---------------------------------------------------------------------------\u001b[0m",
      "\u001b[1;31mValueError\u001b[0m                                Traceback (most recent call last)",
      "Cell \u001b[1;32mIn[7], line 4\u001b[0m\n\u001b[0;32m      1\u001b[0m a \u001b[38;5;241m=\u001b[39m \u001b[38;5;241m-\u001b[39m\u001b[38;5;241m2\u001b[39m\n\u001b[0;32m      3\u001b[0m \u001b[38;5;28;01mif\u001b[39;00m a \u001b[38;5;241m<\u001b[39m\u001b[38;5;241m=\u001b[39m \u001b[38;5;241m0\u001b[39m:\n\u001b[1;32m----> 4\u001b[0m     \u001b[38;5;28;01mraise\u001b[39;00m \u001b[38;5;167;01mValueError\u001b[39;00m(\u001b[38;5;124m\"\u001b[39m\u001b[38;5;124mIngen verdier under 0.\u001b[39m\u001b[38;5;124m\"\u001b[39m)\n",
      "\u001b[1;31mValueError\u001b[0m: Ingen verdier under 0."
     ]
    }
   ],
   "source": [
    "a = -2\n",
    "\n",
    "if a <= 0:\n",
    "    raise ValueError(\"Ingen verdier under 0.\")"
   ]
  },
  {
   "cell_type": "markdown",
   "metadata": {},
   "source": [
    "# Litt moro\n",
    "Til slutt har vi litt moro, du kan lage dine egene feil. La oss se på eksemplet fra tidligere om at vi ikke ønsker verdier under 0. Da kan vi lage vår egen feilmelding."
   ]
  },
  {
   "cell_type": "code",
   "execution_count": 8,
   "metadata": {},
   "outputs": [
    {
     "ename": "IngenVerdierUnder0",
     "evalue": "Ingen verdier under 0.",
     "output_type": "error",
     "traceback": [
      "\u001b[1;31m---------------------------------------------------------------------------\u001b[0m",
      "\u001b[1;31mIngenVerdierUnder0\u001b[0m                        Traceback (most recent call last)",
      "Cell \u001b[1;32mIn[8], line 5\u001b[0m\n\u001b[0;32m      2\u001b[0m     \u001b[38;5;28;01mpass\u001b[39;00m\n\u001b[0;32m      4\u001b[0m \u001b[38;5;28;01mif\u001b[39;00m a \u001b[38;5;241m<\u001b[39m\u001b[38;5;241m=\u001b[39m \u001b[38;5;241m0\u001b[39m:\n\u001b[1;32m----> 5\u001b[0m     \u001b[38;5;28;01mraise\u001b[39;00m IngenVerdierUnder0(\u001b[38;5;124m\"\u001b[39m\u001b[38;5;124mIngen verdier under 0.\u001b[39m\u001b[38;5;124m\"\u001b[39m)\n",
      "\u001b[1;31mIngenVerdierUnder0\u001b[0m: Ingen verdier under 0."
     ]
    }
   ],
   "source": [
    "class IngenVerdierUnder0(Exception):\n",
    "    pass\n",
    "\n",
    "if a <= 0:\n",
    "    raise IngenVerdierUnder0(\"Ingen verdier under 0.\")"
   ]
  }
 ],
 "metadata": {
  "kernelspec": {
   "display_name": "Python 3",
   "language": "python",
   "name": "python3"
  },
  "language_info": {
   "codemirror_mode": {
    "name": "ipython",
    "version": 3
   },
   "file_extension": ".py",
   "mimetype": "text/x-python",
   "name": "python",
   "nbconvert_exporter": "python",
   "pygments_lexer": "ipython3",
   "version": "3.10.4"
  }
 },
 "nbformat": 4,
 "nbformat_minor": 2
}
