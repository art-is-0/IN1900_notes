{
 "cells": [
  {
   "cell_type": "markdown",
   "id": "026725f9",
   "metadata": {},
   "source": [
    "# VSCode settings\n",
    "\n",
    "Noen på forkurs har fått gitte setting for VSCode som IFI anbefaler å bruke, men gruppelærere og emneansvarlig syns at de ikke er nødvendige. Så her er det hvordan fjerne de.\n",
    "\n",
    "Du kan finne filen ved å:\n",
    "  1. `Ctrl + Shift + P` (eller `Cmd + Shift + P` på Mac)\n",
    "  2. Søk etter \"Preferences: Open User Settings (JSON)\"\n",
    "  3. Fjern innholdet som matcher innholdet i [linken](https://www.uio.no/studier/emner/matnat/ifi/IN1010/v23/Forkurs/Kodeeksempler/settings.json). \n",
    "\n"
   ]
  },
  {
   "cell_type": "markdown",
   "id": "116b705c",
   "metadata": {},
   "source": [
    "# Guide til tekniske problemer\n",
    "  1. Mange på windows vil ha PATH problemer:\n",
    "    - Åpne en terminal (ikke i vscode), prøv å kjøre `python` eller `python3`. Hvis den sier \"command not found\" eller lignende, er det et problem med PATH. \n",
    "    - Løsninger: \n",
    "      1. Reinstaller python og huk av for \"Add Python to PATH\" under installasjonen. Enkelt, men tar litt tid. \n",
    "      2. Eller legg til python manuelt i PATH:\n",
    "        1. Åpne en terminal og kjør `where python` eller `where python3` for å finne hvor python er installert. Kopier path'en\n",
    "        2. Søk etter \"Miljøvariabler\"/\"Environment Variables\" i startmenyen\n",
    "        3. Klikk på \"Miljøvariabler\" i systeminnstillingene\n",
    "        4. Trykk på fanen \"Advanced\" (litt usikker på norsk navn)\n",
    "        5. Under \"Systemvariabler\", finn \"PATH\" og klikk \"Ny/New\"\n",
    "        6. Lim inn path'en kopiert fra terminalen\n",
    "  2. Installerte pakker (numpy etc.) dukker ikke opp i VSCode:\n",
    "      Skjer ofte hvis du har flere versjoner av python installert.\n",
    "      - Løsninger:\n",
    "        1. Bruke command palette i VSCode for å velge riktig python versjon:\n",
    "           - Trykk `Ctrl + Shift + P` (eller `Cmd + Shift + P` på Mac)\n",
    "           - Søk etter \"Python: Select Interpreter\" og velg riktig versjon.\n",
    "          1. Åpne VSCode\n",
    "          2. Trykk `Ctrl + Shift + P` (eller `Cmd + Shift + P` på Mac)\n",
    "          3. Søk etter \"Python: Select Interpreter\" og velg riktig versjon. \n",
    "        2. Alternativt kan du trykke på status linjen nederst til høyre der det står \"Python x.x.x\" og få samme meny. \n",
    "  3. Noen windows PC'er har blokkert python fra å kjøre i terminalen:\n",
    "      - Løsning:\n",
    "        - Det står i terminalen at kommandoen er blokkert og hvor i innstillingene du kan endre dette. Dette er enkelt å fikse \n",
    "        "
   ]
  },
  {
   "cell_type": "markdown",
   "id": "382859b1",
   "metadata": {},
   "source": [
    "# Hvordan levere filer til emnet\n",
    "1. Start med å gå inn på og logge seg på [devilry](https://devilry.ifi.uio.no/).\n",
    "2. Inne på devilry klikk på student, så på emnet IN1900, dermed vil du se innleveringene.\n",
    "3. Inne på innleveringen så legger du til oppgavene som `.py` filer, hvor hver oppgave er sin egen fil. Filnavnet står på bunnen av oppgaven. "
   ]
  },
  {
   "cell_type": "markdown",
   "id": "54e61a74",
   "metadata": {},
   "source": [
    "# Oppgavene\n",
    "En tips til frivilige innleveringen til denne uka er formatering.\n",
    "## Formatering\n",
    "For å starte å formatere så trenger vi å bruke en f-string. Du gjør dette ved å putte en `f` foran en string."
   ]
  },
  {
   "cell_type": "code",
   "execution_count": 17,
   "id": "5943e56b",
   "metadata": {},
   "outputs": [
    {
     "name": "stdout",
     "output_type": "stream",
     "text": [
      "Dette er n = 123.5678\n"
     ]
    }
   ],
   "source": [
    "n = 123.5678\n",
    "print(f\"Dette er n = {n}\")"
   ]
  },
  {
   "cell_type": "markdown",
   "id": "607a1cc2",
   "metadata": {},
   "source": [
    "og du kan legge inn kode eller variabler inn i stringen om de er omringet av $\\{\\dots\\}$. For å formatere så legger du en colon på slutten før \\}. Der kan du legge til flere tegn på hvordan outputen skal være."
   ]
  },
  {
   "cell_type": "markdown",
   "id": "754dcdc3",
   "metadata": {},
   "source": [
    "```python\n",
    "All Numbers\n",
    "number = 4125.6\n",
    "percent = 0.3738\n",
    "\n",
    "Output        Formating           Kommentar\n",
    "'4125.60'     f\"{number:.2f}\"     # Runder av til to desimaler\n",
    "'4,125.60'    f\"{number:,.2f}\"    # To desimaler og , for hver tredje siffer\n",
    "'04125.60'    f\"{number:08.2f}\"   # Maks 8 siffere innkludert ., med 0 for ekstra plass\n",
    "' 4125.60'    f\"{number: 8.2f}\"   # Samme men, tom rom for ekstra plass\n",
    "'4.1e+03'     f\"{number:.2g}\"     # Vitenskapligformat med 2 siffer\n",
    "'4125.6'      f\"{number:.8g}\"     # Vitenskapeligformat med 8 siffer\n",
    "'37%'         f\"{percent:.0%}\"    # Prosent\n",
    "\n",
    "\n",
    "Strings\n",
    "string = \"Python\"\n",
    "\n",
    "Output                  Formating           Kommentar\n",
    "'              Python' \tf\"{string:>20}\" \t# 20 totalt karakterer og variablet er på venstre side\n",
    "'Python              ' \tf\"{string:<20}\" \t# Samme men på høyre side\n",
    "'       Python       ' \tf\"{string:^20}\"     # Samme men variabelet i midten\n",
    "\n",
    "\n",
    "Annet interesant\n",
    "name = \"Trey\"\n",
    "\n",
    "Output                  Formating           Kommentar\n",
    "\"name='Trey'\"           {name=} \t        # Printer ut både navnet på variabel og variablet\n",
    "\"name = 'Trey'\"         {name = } \t\t    # Samme, men med mellomrom\n",
    "```"
   ]
  },
  {
   "cell_type": "markdown",
   "id": "86038060",
   "metadata": {},
   "source": []
  }
 ],
 "metadata": {
  "kernelspec": {
   "display_name": "Python 3",
   "language": "python",
   "name": "python3"
  },
  "language_info": {
   "codemirror_mode": {
    "name": "ipython",
    "version": 3
   },
   "file_extension": ".py",
   "mimetype": "text/x-python",
   "name": "python",
   "nbconvert_exporter": "python",
   "pygments_lexer": "ipython3",
   "version": "3.10.4"
  }
 },
 "nbformat": 4,
 "nbformat_minor": 5
}
