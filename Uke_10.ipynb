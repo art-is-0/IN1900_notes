{
 "cells": [
  {
   "cell_type": "markdown",
   "metadata": {},
   "source": [
    "![Testing](Animals/Bernardo.png)"
   ]
  },
  {
   "cell_type": "markdown",
   "metadata": {},
   "source": [
    "# Klasser\n",
    "## Mer om \"spesial metoder\"\n",
    "Det jeg snakker er om metoder(funksjoner i klasser) som skrives slikt `__<navn>__`, og dere skal bruke en god del av dem denne uka.\n",
    "\n",
    "Så jeg skal vise hvordan det er det vanligste måten å bruke det på. La oss anta at vi har en klasse som emulerer vektorer. Da kan vi skrive det slikt."
   ]
  },
  {
   "cell_type": "code",
   "execution_count": null,
   "metadata": {},
   "outputs": [],
   "source": [
    "class Vector2D:\n",
    "    def __init__(self, x, y):\n",
    "        self.x, self.y = x, y"
   ]
  },
  {
   "cell_type": "markdown",
   "metadata": {},
   "source": [
    "Så skal vi legge til en måte hvordan vi kan legge sammen vektorene og hvordan vi kan subtrahere de. Da starter vi å definere metoden, og den tar inn `self` som er da selve klassen vi jobber med og `other`, du kan kalle det hva du ønsker, så lenge man kan skjønne at det er en annen instans av klassen. Det er bare mest vanlig å bruke `other`, siden det er det som står i Python's dokumentasjon. \n",
    "\n",
    "Da trenger vi å legge sammen elementene `x, y = self.x + other.x, self.y + other.y` for addisjon eller minus for subtraksjon. Men, i disse tilfellene så er det viktig at du returnerer en ny instans av klassen `Vector2D` fordi, når du adderer sammen så har du fortsatt en vektor. Så det vi får er dette."
   ]
  },
  {
   "cell_type": "code",
   "execution_count": 1,
   "metadata": {},
   "outputs": [],
   "source": [
    "class Vector2D:\n",
    "    def __init__(self, x, y):\n",
    "        self.x, self.y = x, y\n",
    "\n",
    "    def __add__(self, other):\n",
    "        x, y = self.x + other.x, self.y + other.y\n",
    "        return Vector2D(x,y)\n",
    "\n",
    "    def __sub__(self, other):\n",
    "        x, y = self.x - other.x, self.y - other.y\n",
    "        return Vector2D(x,y)"
   ]
  },
  {
   "cell_type": "markdown",
   "metadata": {},
   "source": [
    "Andre spesial metoder som du skal bruke idag og hvordan bruke de.\n",
    "```python\n",
    "Operator           Method\n",
    "+                  object.__add__(self, other)\n",
    "-                  object.__sub__(self, other)\n",
    "*                  object.__mul__(self, other)\n",
    "abs()              object.__abs__(self)\n",
    "len()              object.__len__(self)\n",
    "str(object)        object.__str__(self)\n",
    "```"
   ]
  },
  {
   "cell_type": "markdown",
   "metadata": {},
   "source": [
    "## Arv og Superklasser\n",
    "La oss si jeg har lagd den klassen `Vector2D` som er da for 2-dimensjonale vektorer og jeg ønsker å lage en klasse for 3-dimensjonale vektorer. Så kan jeg bruke mitt tidligere arbeid ved å se at den nye klassen `Vector3D` arver egenskaper fra `Vector2D`, og dermed er `Vector2D` en superklasse til `Vector3D`.\n",
    "\n",
    "Så hvordan vi gjør dette er ved skrive dette når vi definerer klassen.\n",
    "```python\n",
    "class Vector3D(Vector2D):\n",
    "```\n",
    "Dermed har `Vector3D` arvet metodene til `Vector2D`, og det betyr om `Vector3D` har ikke en `__add__` metode så vil den da bruke `Vector2D` sin `__add__` metode, og i vårt tilfelle så vil det ikke helt fungere siden vi ønsker å ha med en ny dimensjon.\n",
    "\n",
    "Men, det betyr ikke at vi ikke kan bruke `Vector2D` sine metoder. Vi starter med å definere `__init__`, som blir litt annerledes enn vanlig.\n",
    "```python\n",
    "    def __init__(self, x, y, z):\n",
    "        super().__init__(x, y)\n",
    "        self.z = z\n",
    "```\n",
    "Her bruker vi `super()` som er klassen vi arver fra og `__init__` som er metoden fra den klassen. Så det som skjer er at vi putter inn $x$ og $y$ i `Vector2D` sin `__init__`, som utfører `self.x, self.y = x, y` som er definert i `__init__`-en. På samme måte kan vi bruke `Vector2D` i de andre metodene. For eksempel `__add__`:\n",
    "```python\n",
    "    def __add__(self, other):\n",
    "        tmp = super().__add__(other)\n",
    "        z = self.z + other.z\n",
    "        return Vector3D(tmp.x, tmp.y, z)\n",
    "```\n",
    "Her er `tmp` en midertidlig vektor i to-dimensjoner, hvor $x$ og $y$ er addert sammen. Så trenger vi kun å addere $z$ komponentene og lage en ny `Vector3D` instans. Da blir koden slik.\n"
   ]
  },
  {
   "cell_type": "code",
   "execution_count": 4,
   "metadata": {},
   "outputs": [
    {
     "name": "stdout",
     "output_type": "stream",
     "text": [
      "(-3.00, 5.00)\n",
      "(-3.00, 5.00, -5.00)\n"
     ]
    }
   ],
   "source": [
    "class Vector2D:\n",
    "    def __init__(self, x, y):\n",
    "        self.x, self.y = x, y\n",
    "\n",
    "    def __add__(self, other):\n",
    "        x, y = self.x + other.x, self.y + other.y\n",
    "        return Vector2D(x,y)\n",
    "    \n",
    "    def __str__(self) -> str:\n",
    "        return f'({self.x:.2f}, {self.y:.2f})'\n",
    "    \n",
    "class Vector3D(Vector2D):\n",
    "    def __init__(self, x, y, z):\n",
    "        super().__init__(x, y)\n",
    "        self.z = z\n",
    "    \n",
    "    def __add__(self, other):\n",
    "        tmp = super().__add__(other)\n",
    "        z = self.z + other.z\n",
    "        return Vector3D(tmp.x, tmp.y, z)\n",
    "    \n",
    "    def __str__(self) -> str:\n",
    "        return super().__str__()[:-1] + f', {self.z:.2f})'\n",
    "    \n",
    "vec2_1 = Vector2D(2,3)\n",
    "vec2_2 = Vector2D(-5,2)\n",
    "vec2 = vec2_1 + vec2_2\n",
    "print(vec2)\n",
    "\n",
    "vec3_1 = Vector3D(2,3,5)\n",
    "vec3_2 = Vector3D(-5,2,-10)\n",
    "vec3 = vec3_1 + vec3_2\n",
    "print(vec3)"
   ]
  }
 ],
 "metadata": {
  "kernelspec": {
   "display_name": "Python 3",
   "language": "python",
   "name": "python3"
  },
  "language_info": {
   "codemirror_mode": {
    "name": "ipython",
    "version": 3
   },
   "file_extension": ".py",
   "mimetype": "text/x-python",
   "name": "python",
   "nbconvert_exporter": "python",
   "pygments_lexer": "ipython3",
   "version": "3.10.4"
  }
 },
 "nbformat": 4,
 "nbformat_minor": 2
}
