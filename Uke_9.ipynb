{
 "cells": [
  {
   "cell_type": "markdown",
   "metadata": {},
   "source": [
    "![Testing](Animals/Isabel.png)"
   ]
  },
  {
   "cell_type": "markdown",
   "metadata": {},
   "source": [
    "# Klasser\n",
    "Klasser er ganske vanskelig for de fleste å skjønne hvordan man skal bruke. En instans av en klasse lagrer verdiene som du har gitt den og har en spesifikk set av funksjoner som du har definert.\n",
    "## `__init__`\n",
    "Det her er en av de viktigste delen av en klasse. Her setter inn de verdiene som skal bli lagret i klassen. Du kan lagre andre verdier eller endre de i funksjoner, men her ofte definerer du de viktigste tingene i klassen."
   ]
  },
  {
   "cell_type": "code",
   "execution_count": 2,
   "metadata": {},
   "outputs": [],
   "source": [
    "class LotteryTicket:\n",
    "    # Initialiserer klassen\n",
    "    def __init__(self, color_in, number_in):\n",
    "        self.color = color_in\n",
    "        self.number = number_in"
   ]
  },
  {
   "cell_type": "markdown",
   "metadata": {},
   "source": [
    "Her er en litt praktisk eksempel, hvor du kan definere en objekt/instans av klassen, med de verdiene som du kommer til å trenge. Så kan du \"trekke\" ut verdiene ved å kalle på verdien."
   ]
  },
  {
   "cell_type": "code",
   "execution_count": 3,
   "metadata": {},
   "outputs": [
    {
     "name": "stdout",
     "output_type": "stream",
     "text": [
      "yellow 3\n"
     ]
    }
   ],
   "source": [
    "ticket = LotteryTicket(\"yellow\", 3)\n",
    "print(ticket.color, ticket.number)"
   ]
  },
  {
   "cell_type": "markdown",
   "metadata": {},
   "source": [
    "I `__init__` så kan du også definere andre verdiere også. Du kan definere hvor som helst i klassen så lenge du bruker `self.<navn> = <verdi>`"
   ]
  },
  {
   "cell_type": "code",
   "execution_count": 4,
   "metadata": {},
   "outputs": [],
   "source": [
    "import numpy as np\n",
    "\n",
    "class Triangle:\n",
    "    def __init__(self, a, b):\n",
    "        self.a = a\n",
    "        self.b = b\n",
    "        # Vi kaller ikke på c, men vi fortsatt definerer den\n",
    "        self.c = np.sqrt(a**2 + b**2)"
   ]
  },
  {
   "cell_type": "markdown",
   "metadata": {},
   "source": [
    "## Metoder\n",
    "Vi ofte ønsker å lage funksjoner/metoder for klassen som bruker de verdiene som vi har allerede definert, vi kan lage funksjoner slikt. Vi starter med å lage en funksjon i klassen, og **HUSK** å legge til `self` som første variabel om du skal bruke variablene i klassen. "
   ]
  },
  {
   "cell_type": "code",
   "execution_count": 5,
   "metadata": {},
   "outputs": [],
   "source": [
    "import random\n",
    "\n",
    "class LotteryTicket:\n",
    "    def __init__(self, color_in, number_in):\n",
    "        self.color = color_in\n",
    "        self.number = number_in\n",
    "    \n",
    "    def __str__(self):\n",
    "        return f\"Color: {self.color} with the number {self.number}\"\n",
    "    \n",
    "class LotteryMachine:\n",
    "    def __init__(self, tickets_in=[]):\n",
    "        self.tickets = tickets_in\n",
    "\n",
    "    # Dette definerer hva som skjer når len() funksjonen blir brukt på klassen\n",
    "    def __len__(self):\n",
    "        return len(self.tickets)\n",
    "\n",
    "    def add_ticket(self, ticket_in:LotteryTicket):\n",
    "        self.tickets.append(ticket_in)\n",
    "\n",
    "    def error_if_empty(self):\n",
    "        if len(self) == 0:\n",
    "            raise RuntimeError(\"Can't draw from an empty LotteryMachine, you know\")\n",
    "\n",
    "    def draw_tickets_with_replacement(self, n):\n",
    "        for _ in range(n):\n",
    "            random_ticket = random.choice(self.tickets)\n",
    "            print(random_ticket)\n",
    "\n",
    "    def draw_tickets_without_replacement(self, n):\n",
    "        for _ in range(n):\n",
    "            self.error_if_empty()\n",
    "\n",
    "            random_ticket = random.choice(self.tickets)\n",
    "            self.tickets.remove(random_ticket)\n",
    "            print(random_ticket)"
   ]
  },
  {
   "cell_type": "code",
   "execution_count": 6,
   "metadata": {},
   "outputs": [
    {
     "name": "stdout",
     "output_type": "stream",
     "text": [
      "Color: yellow with the number 1\n"
     ]
    }
   ],
   "source": [
    "ticket = LotteryTicket(\"yellow\", 1)\n",
    "machine = LotteryMachine([ticket])\n",
    "\n",
    "test_str = str(ticket)\n",
    "print(test_str)\n",
    "random.seed(1)\n",
    "\n",
    "for i in range(3):\n",
    "    ticket = LotteryTicket(\"black\", random.randint(1, 100))\n",
    "    machine.add_ticket(ticket)\n",
    "\n",
    "for i in range(3):\n",
    "    ticket = LotteryTicket(\"blue\", random.randint(1, 100))\n",
    "    machine.add_ticket(ticket)\n"
   ]
  },
  {
   "cell_type": "code",
   "execution_count": 7,
   "metadata": {},
   "outputs": [
    {
     "name": "stdout",
     "output_type": "stream",
     "text": [
      "With replacement\n",
      "Color: black with the number 98\n",
      "Color: blue with the number 16\n",
      "Color: black with the number 98\n",
      "Color: black with the number 98\n",
      "Color: blue with the number 33\n",
      "\n",
      "Without replacement\n",
      "Color: black with the number 98\n",
      "Color: black with the number 18\n",
      "Color: yellow with the number 1\n",
      "Color: blue with the number 16\n",
      "Color: black with the number 73\n",
      "Color: blue with the number 33\n",
      "Color: blue with the number 9\n"
     ]
    },
    {
     "ename": "RuntimeError",
     "evalue": "Can't draw from an empty LotteryMachine, you know",
     "output_type": "error",
     "traceback": [
      "\u001b[1;31m---------------------------------------------------------------------------\u001b[0m",
      "\u001b[1;31mRuntimeError\u001b[0m                              Traceback (most recent call last)",
      "Cell \u001b[1;32mIn[7], line 5\u001b[0m\n\u001b[0;32m      2\u001b[0m machine\u001b[38;5;241m.\u001b[39mdraw_tickets_with_replacement(\u001b[38;5;241m5\u001b[39m)\n\u001b[0;32m      4\u001b[0m \u001b[38;5;28mprint\u001b[39m(\u001b[38;5;124m\"\u001b[39m\u001b[38;5;130;01m\\n\u001b[39;00m\u001b[38;5;124mWithout replacement\u001b[39m\u001b[38;5;124m\"\u001b[39m)\n\u001b[1;32m----> 5\u001b[0m \u001b[43mmachine\u001b[49m\u001b[38;5;241;43m.\u001b[39;49m\u001b[43mdraw_tickets_without_replacement\u001b[49m\u001b[43m(\u001b[49m\u001b[38;5;241;43m8\u001b[39;49m\u001b[43m)\u001b[49m\n",
      "Cell \u001b[1;32mIn[5], line 33\u001b[0m, in \u001b[0;36mLotteryMachine.draw_tickets_without_replacement\u001b[1;34m(self, n)\u001b[0m\n\u001b[0;32m     31\u001b[0m \u001b[38;5;28;01mdef\u001b[39;00m\u001b[38;5;250m \u001b[39m\u001b[38;5;21mdraw_tickets_without_replacement\u001b[39m(\u001b[38;5;28mself\u001b[39m, n):\n\u001b[0;32m     32\u001b[0m     \u001b[38;5;28;01mfor\u001b[39;00m _ \u001b[38;5;129;01min\u001b[39;00m \u001b[38;5;28mrange\u001b[39m(n):\n\u001b[1;32m---> 33\u001b[0m         \u001b[38;5;28;43mself\u001b[39;49m\u001b[38;5;241;43m.\u001b[39;49m\u001b[43merror_if_empty\u001b[49m\u001b[43m(\u001b[49m\u001b[43m)\u001b[49m\n\u001b[0;32m     35\u001b[0m         random_ticket \u001b[38;5;241m=\u001b[39m random\u001b[38;5;241m.\u001b[39mchoice(\u001b[38;5;28mself\u001b[39m\u001b[38;5;241m.\u001b[39mtickets)\n\u001b[0;32m     36\u001b[0m         \u001b[38;5;28mself\u001b[39m\u001b[38;5;241m.\u001b[39mtickets\u001b[38;5;241m.\u001b[39mremove(random_ticket)\n",
      "Cell \u001b[1;32mIn[5], line 24\u001b[0m, in \u001b[0;36mLotteryMachine.error_if_empty\u001b[1;34m(self)\u001b[0m\n\u001b[0;32m     22\u001b[0m \u001b[38;5;28;01mdef\u001b[39;00m\u001b[38;5;250m \u001b[39m\u001b[38;5;21merror_if_empty\u001b[39m(\u001b[38;5;28mself\u001b[39m):\n\u001b[0;32m     23\u001b[0m     \u001b[38;5;28;01mif\u001b[39;00m \u001b[38;5;28mlen\u001b[39m(\u001b[38;5;28mself\u001b[39m) \u001b[38;5;241m==\u001b[39m \u001b[38;5;241m0\u001b[39m:\n\u001b[1;32m---> 24\u001b[0m         \u001b[38;5;28;01mraise\u001b[39;00m \u001b[38;5;167;01mRuntimeError\u001b[39;00m(\u001b[38;5;124m\"\u001b[39m\u001b[38;5;124mCan\u001b[39m\u001b[38;5;124m'\u001b[39m\u001b[38;5;124mt draw from an empty LotteryMachine, you know\u001b[39m\u001b[38;5;124m\"\u001b[39m)\n",
      "\u001b[1;31mRuntimeError\u001b[0m: Can't draw from an empty LotteryMachine, you know"
     ]
    }
   ],
   "source": [
    "print(\"With replacement\")\n",
    "machine.draw_tickets_with_replacement(5)\n",
    "\n",
    "print(\"\\nWithout replacement\")\n",
    "machine.draw_tickets_without_replacement(8)"
   ]
  },
  {
   "cell_type": "markdown",
   "metadata": {},
   "source": [
    "## `Special methods`\n",
    "Dette er funksjoner som skrives på denne måten `def __<navnet på funksjonen>__(self):`, og de kjører når du gjør ulike operasjoner som python har definert. For eksempel, så definerer funksjonen `__add__(self, other)` hva som skjer når du utfører denne handlingen `object_1 + object_2` og `__sub__(self, other)` for minus. Det fins en god del av slike. Men, den viktigste for dere idag, er `__call__(self)`, som definerer hva som skjer når du gjør `object()`.\n",
    "\n",
    "### Eksempel\n",
    "Du har funksjonen\n",
    "$$\n",
    "f(x)=ax + b\n",
    "$$\n",
    "så lager vi en klasse med en `__call__` metode."
   ]
  },
  {
   "cell_type": "code",
   "execution_count": null,
   "metadata": {},
   "outputs": [
    {
     "name": "stdout",
     "output_type": "stream",
     "text": [
      "3\n",
      "5\n"
     ]
    }
   ],
   "source": [
    "class Linear:\n",
    "    def __init__(self, a, b):\n",
    "        self.a = a\n",
    "        self.b = b\n",
    "\n",
    "    def __call__(self, x):\n",
    "        return self.a*x + self.b\n",
    "    \n",
    "funksjon = Linear(2, 3)\n",
    "print(funksjon(0))\n",
    "print(funksjon(1))"
   ]
  },
  {
   "cell_type": "markdown",
   "metadata": {},
   "source": [
    "Her ser vi at instansen av klassen kan vi sette `(x)` bak og det utfører det vi definerte at den skulle. Du trenger ikke å bruke `__call__` kun slikt, du kan bruke den til å utføre en hvilken som helst handling, for eksempel å plote verdier, det er kun kreativitet som stopper."
   ]
  },
  {
   "cell_type": "markdown",
   "metadata": {},
   "source": [
    "### Andre \"special methods\"\n",
    "Dette her er ikke alle som fins, men det er flesteparten.\n",
    "```python\n",
    "Binary Operators\n",
    "\n",
    "Operator           Method\n",
    "+                  object.__add__(self, other)\n",
    "-                  object.__sub__(self, other)\n",
    "*                  object.__mul__(self, other)\n",
    "//                 object.__floordiv__(self, other)\n",
    "/                  object.__truediv__(self, other)\n",
    "%                  object.__mod__(self, other)\n",
    "**                 object.__pow__(self, other[, modulo])\n",
    "<<                 object.__lshift__(self, other)\n",
    ">>                 object.__rshift__(self, other)\n",
    "&                  object.__and__(self, other)\n",
    "^                  object.__xor__(self, other)\n",
    "|                  object.__or__(self, other)\n",
    "\n",
    "Assignment Operators:\n",
    "\n",
    "Operator          Method\n",
    "+=                object.__iadd__(self, other)\n",
    "-=                object.__isub__(self, other)\n",
    "*=                object.__imul__(self, other)\n",
    "/=                object.__idiv__(self, other)\n",
    "//=               object.__ifloordiv__(self, other)\n",
    "%=                object.__imod__(self, other)\n",
    "**=               object.__ipow__(self, other[, modulo])\n",
    "<<=               object.__ilshift__(self, other)\n",
    ">>=               object.__irshift__(self, other)\n",
    "&=                object.__iand__(self, other)\n",
    "^=                object.__ixor__(self, other)\n",
    "|=                object.__ior__(self, other)\n",
    "\n",
    "Unary Operators:\n",
    "\n",
    "Operator          Method\n",
    "-                 object.__neg__(self)\n",
    "+                 object.__pos__(self)\n",
    "abs()             object.__abs__(self)\n",
    "~                 object.__invert__(self)\n",
    "complex()         object.__complex__(self)\n",
    "int()             object.__int__(self)\n",
    "long()            object.__long__(self)\n",
    "float()           object.__float__(self)\n",
    "oct()             object.__oct__(self)\n",
    "hex()             object.__hex__(self)\n",
    "\n",
    "Comparison Operators\n",
    "\n",
    "Operator          Method\n",
    "<                 object.__lt__(self, other)\n",
    "<=                object.__le__(self, other)\n",
    "==                object.__eq__(self, other)\n",
    "!=                object.__ne__(self, other)\n",
    ">=                object.__ge__(self, other)\n",
    ">                 object.__gt__(self, other)\n",
    "\n",
    "Other\n",
    "\n",
    "Operator          Method\n",
    "len()             object.__len__(self)\n",
    "\n",
    "```"
   ]
  },
  {
   "cell_type": "markdown",
   "metadata": {},
   "source": []
  }
 ],
 "metadata": {
  "kernelspec": {
   "display_name": "Python 3",
   "language": "python",
   "name": "python3"
  },
  "language_info": {
   "codemirror_mode": {
    "name": "ipython",
    "version": 3
   },
   "file_extension": ".py",
   "mimetype": "text/x-python",
   "name": "python",
   "nbconvert_exporter": "python",
   "pygments_lexer": "ipython3",
   "version": "3.10.4"
  }
 },
 "nbformat": 4,
 "nbformat_minor": 2
}
