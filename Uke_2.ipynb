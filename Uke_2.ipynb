{
 "cells": [
  {
   "cell_type": "markdown",
   "id": "8a37f1f6",
   "metadata": {},
   "source": [
    "# Hvordan bruke å definere e\n",
    "For å bruke Eulers tall $e$ så må vi importere moduler for å bruke det. Det er vanlig å bruke `math`, men siden vi kommer til å bruke mye `numpy` senere, så er det best å importere fra `numpy`, slikt"
   ]
  },
  {
   "cell_type": "code",
   "execution_count": 1,
   "id": "20058cc8",
   "metadata": {},
   "outputs": [
    {
     "name": "stdout",
     "output_type": "stream",
     "text": [
      "5.43656365691809\n"
     ]
    }
   ],
   "source": [
    "import numpy as np\n",
    "\n",
    "x = np.e * 2\n",
    "print(x)"
   ]
  },
  {
   "cell_type": "markdown",
   "id": "3daedb95",
   "metadata": {},
   "source": [
    "Men hvis du skal opphøre $e$ med noe, så er det bedre og en konvensjon å bruke $\\exp(\\dots)$ istedenfor $e^{(\\dots)}$, og da kan du skrive det slikt"
   ]
  },
  {
   "cell_type": "code",
   "execution_count": 2,
   "id": "7a7e463c",
   "metadata": {},
   "outputs": [
    {
     "name": "stdout",
     "output_type": "stream",
     "text": [
      "0.36787944117144233\n"
     ]
    }
   ],
   "source": [
    "import numpy as np\n",
    "\n",
    "x = np.exp(-1)\n",
    "print(x)"
   ]
  },
  {
   "cell_type": "markdown",
   "id": "eced7e6a",
   "metadata": {},
   "source": [
    "## Hvordan fordele liste elementer\n",
    "\n",
    "I noen tilfeller så har du en stor liste og du ønsker kun å bruke noen spesifike elementer, men det er litt mye å skrive, så kan du fordele arbeidet slik."
   ]
  },
  {
   "cell_type": "code",
   "execution_count": 3,
   "id": "e321594f",
   "metadata": {},
   "outputs": [],
   "source": [
    "liste = [[1,2,3],\n",
    "         [3,4,5],\n",
    "         [6,7,8]]"
   ]
  },
  {
   "cell_type": "markdown",
   "id": "51ed1b97",
   "metadata": {},
   "source": [
    "Vi vet at listen er denne formaten og vi kan lett fordele elementene på forskjellige variabel."
   ]
  },
  {
   "cell_type": "code",
   "execution_count": 4,
   "id": "0ce41088",
   "metadata": {},
   "outputs": [
    {
     "name": "stdout",
     "output_type": "stream",
     "text": [
      "[1, 2, 3]\n",
      "[3, 4, 5]\n",
      "[6, 7, 8]\n"
     ]
    }
   ],
   "source": [
    "a, b, c = liste\n",
    "print(a)\n",
    "print(b)\n",
    "print(c)"
   ]
  },
  {
   "cell_type": "code",
   "execution_count": 5,
   "id": "78edfd00",
   "metadata": {},
   "outputs": [
    {
     "name": "stdout",
     "output_type": "stream",
     "text": [
      "1\n",
      "2\n",
      "3\n"
     ]
    }
   ],
   "source": [
    "x, y, z = a\n",
    "print(x)\n",
    "print(y)\n",
    "print(z)"
   ]
  }
 ],
 "metadata": {
  "kernelspec": {
   "display_name": "Python 3",
   "language": "python",
   "name": "python3"
  },
  "language_info": {
   "codemirror_mode": {
    "name": "ipython",
    "version": 3
   },
   "file_extension": ".py",
   "mimetype": "text/x-python",
   "name": "python",
   "nbconvert_exporter": "python",
   "pygments_lexer": "ipython3",
   "version": "3.10.4"
  }
 },
 "nbformat": 4,
 "nbformat_minor": 5
}
