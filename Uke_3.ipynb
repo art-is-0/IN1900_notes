{
 "cells": [
  {
   "cell_type": "markdown",
   "id": "92561433",
   "metadata": {},
   "source": [
    "# Test funksjoner\n",
    "Jeg personlig mener at test funksjoner er litt ubrukelig, men jeg skjønner hvorfor de eksisterer og at de er brukbare. Test funksjoner tester ut funksjoner med kjente variable, og med kjent output. Her har vi en enkel funksjon."
   ]
  },
  {
   "cell_type": "code",
   "execution_count": 1,
   "id": "a681da45",
   "metadata": {},
   "outputs": [],
   "source": [
    "def u(x):\n",
    "    if x > 0:\n",
    "        return 1\n",
    "    elif x < 0:\n",
    "        return -1"
   ]
  },
  {
   "cell_type": "markdown",
   "id": "61f1d7a1",
   "metadata": {},
   "source": [
    "Den er ganske lett å skjønne, for $u(1)=1$ og $u(-1)=-1$, så test funksjoner sjekker om enkle eller mer kompliserte funksjoner gir forventet output. En test funksjon burde kalle på funksjonen og sammenligne om det beregnet er lik det forventet. \n",
    "\n",
    "Men, når vi driver med floating-point verdier så kan det hende at de ikke er akkurat like, så vi må se om de er like innenfor en gitt toleranse\n",
    "$$\n",
    "|u(2) - 1| < \\text{toleranse},\n",
    "$$\n",
    "hvor en vanlig toleranse er på $10^{-8}$. Da har vi alt for test funksjonen. Så den vil de slik ut"
   ]
  },
  {
   "cell_type": "code",
   "execution_count": 10,
   "id": "1381cbcb",
   "metadata": {},
   "outputs": [],
   "source": [
    "def test_u():\n",
    "    tol = 1e-8\n",
    "\n",
    "    # Tester om u(x) gir 1 når x > 0\n",
    "    x = 5\n",
    "    computed = u(x)\n",
    "    expected = 1\n",
    "    success = abs(computed - expected) < tol\n",
    "    msg = 'u(x) failes test when x > 0'\n",
    "    assert success, msg\n",
    "    \n",
    "    #  Tester om u(x) gir -1 når x < 0\n",
    "    x = -10\n",
    "    computed = u(x)\n",
    "    expected = -1\n",
    "    success = abs(computed - expected) < tol\n",
    "    msg = 'u(x) failes test when x < 0'\n",
    "    assert success, msg\n",
    "\n",
    "    print('All tests passed')"
   ]
  },
  {
   "cell_type": "markdown",
   "id": "a20dd503",
   "metadata": {},
   "source": [
    "Men, en viktig ting folk glemmer. Det er å kjøre test funksjonen"
   ]
  },
  {
   "cell_type": "code",
   "execution_count": null,
   "id": "155101d5",
   "metadata": {},
   "outputs": [
    {
     "name": "stdout",
     "output_type": "stream",
     "text": [
      "All tests passed\n"
     ]
    },
    {
     "ename": "",
     "evalue": "",
     "output_type": "error",
     "traceback": [
      "\u001b[1;31mThe Kernel crashed while executing code in the current cell or a previous cell. \n",
      "\u001b[1;31mPlease review the code in the cell(s) to identify a possible cause of the failure. \n",
      "\u001b[1;31mClick <a href='https://aka.ms/vscodeJupyterKernelCrash'>here</a> for more info. \n",
      "\u001b[1;31mView Jupyter <a href='command:jupyter.viewOutput'>log</a> for further details."
     ]
    }
   ],
   "source": [
    "test_u()"
   ]
  }
 ],
 "metadata": {
  "kernelspec": {
   "display_name": "Python 3",
   "language": "python",
   "name": "python3"
  },
  "language_info": {
   "codemirror_mode": {
    "name": "ipython",
    "version": 3
   },
   "file_extension": ".py",
   "mimetype": "text/x-python",
   "name": "python",
   "nbconvert_exporter": "python",
   "pygments_lexer": "ipython3",
   "version": "3.10.5"
  }
 },
 "nbformat": 4,
 "nbformat_minor": 5
}
