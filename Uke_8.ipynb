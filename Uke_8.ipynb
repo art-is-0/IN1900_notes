{
 "cells": [
  {
   "cell_type": "markdown",
   "metadata": {},
   "source": [
    "![Testing](Animals/Samuel.png)"
   ]
  },
  {
   "cell_type": "code",
   "execution_count": 8,
   "metadata": {},
   "outputs": [
    {
     "name": "stdout",
     "output_type": "stream",
     "text": [
      "20.182795698924732\n"
     ]
    },
    {
     "data": {
      "image/png": "[encoded data removed]",
      "text/plain": [
       "<Figure size 640x480 with 1 Axes>"
      ]
     },
     "metadata": {},
     "output_type": "display_data"
    }
   ],
   "source": [
    "import requests\n",
    "import re\n",
    "import numpy as np\n",
    "import matplotlib.pyplot as plt \n",
    "res = requests.get('https://www.uio.no/studier/emner/matnat/ifi/IN1900/h25/ressurser/results_mid2025.md?vrtx=source')\n",
    "\n",
    "text = res.text\n",
    "\n",
    "parts = text.split(\"##\")[1:]\n",
    "\n",
    "names = []\n",
    "pattern = r'<tr><td align=\"right\">\\d+</td><td align=\"right\">([\\d.]+)</td></tr>'\n",
    "results = []\n",
    "facecolors = ['green', 'red', 'blue']\n",
    "for part in parts:\n",
    "    names.append(part.split(\":\")[0].strip())\n",
    "    matches = re.findall(pattern, part)\n",
    "    results.append([float(matc) for matc in matches])\n",
    "# Output the results\n",
    "# print(matches)\n",
    "lst = results[0] + results[1] + results[2]\n",
    "\n",
    "print(np.mean(lst))\n",
    "plt.hist(results, 38, width=0.4, align='right', histtype=\"barstacked\", label=names)\n",
    "plt.legend()\n",
    "plt.show()"
   ]
  },
  {
   "cell_type": "markdown",
   "metadata": {},
   "source": [
    "## Dictionaries\n",
    "De er rare saker med her er det noen eksempler som jeg håper hjelper.\n",
    "\n",
    "Si du har denne dictionary:"
   ]
  },
  {
   "cell_type": "code",
   "execution_count": 2,
   "metadata": {},
   "outputs": [],
   "source": [
    "elements_10 = {\n",
    "    1: '-', 2: 'Helium', 3: 'Lithium',\n",
    "    4: 'Beryllium', 5: 'Boron', 6: 'Carbon',\n",
    "    7: 'Nitrogen', 8: '-',\n",
    "    9: 'Fluorine', 10: 'Neon'\n",
    "}"
   ]
  },
  {
   "cell_type": "markdown",
   "metadata": {},
   "source": [
    "Du har at key-value par, hvor f.eks \"2\" er key, og \"Helium\" er value. Så for å lese/bruke verdien til \"2\", så må du skrive."
   ]
  },
  {
   "cell_type": "code",
   "execution_count": 3,
   "metadata": {},
   "outputs": [
    {
     "name": "stdout",
     "output_type": "stream",
     "text": [
      "Helium\n"
     ]
    }
   ],
   "source": [
    "print(elements_10[2])"
   ]
  },
  {
   "cell_type": "markdown",
   "metadata": {},
   "source": [
    "Og om du skal endre noe så skriver du dette"
   ]
  },
  {
   "cell_type": "code",
   "execution_count": 4,
   "metadata": {},
   "outputs": [
    {
     "name": "stdout",
     "output_type": "stream",
     "text": [
      "-\n",
      "Hydrogen\n"
     ]
    }
   ],
   "source": [
    "print(elements_10[1])\n",
    "elements_10[1] = 'Hydrogen'\n",
    "print(elements_10[1])"
   ]
  }
 ],
 "metadata": {
  "kernelspec": {
   "display_name": "Python 3",
   "language": "python",
   "name": "python3"
  },
  "language_info": {
   "codemirror_mode": {
    "name": "ipython",
    "version": 3
   },
   "file_extension": ".py",
   "mimetype": "text/x-python",
   "name": "python",
   "nbconvert_exporter": "python",
   "pygments_lexer": "ipython3",
   "version": "3.10.4"
  }
 },
 "nbformat": 4,
 "nbformat_minor": 2
}
