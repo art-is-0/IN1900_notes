{
 "cells": [
  {
   "cell_type": "markdown",
   "metadata": {},
   "source": [
    "# Numpy\n",
    "Numpy er en modull i python som er det mest vanligste modullen som er brukt i vitenskapelig programering i Python. Det var deg lage \"arrays\" som kjører raskere enn lister og du kan utføre utregninger på disse arrays. Det er vanlig å importere numpy slikt."
   ]
  },
  {
   "cell_type": "code",
   "execution_count": 1,
   "metadata": {},
   "outputs": [],
   "source": [
    "import numpy as np"
   ]
  },
  {
   "cell_type": "markdown",
   "metadata": {},
   "source": [
    "## Vektorisering\n",
    "Numpy arrays lar deg utføre utregninger på en hel array av verdier samtidig. For eksempel så har du en funksjon, la oss si $f(x)=2\\cdot x^{3/2}$ og du har en liste av x-verdier som du ønsker å regne ut på. Med lister så trenger du å gjøre dette med for-loops slikt;"
   ]
  },
  {
   "cell_type": "code",
   "execution_count": 2,
   "metadata": {},
   "outputs": [],
   "source": [
    "def f(x):\n",
    "    return 2*x**(3/2)"
   ]
  },
  {
   "cell_type": "code",
   "execution_count": 3,
   "metadata": {},
   "outputs": [
    {
     "name": "stdout",
     "output_type": "stream",
     "text": [
      "[0.0, 2.0, 5.656854249492381, 10.392304845413264, 16.0, 22.360679774997898, 29.393876913398138, 37.040518354904265, 45.254833995939045, 54.0]\n"
     ]
    }
   ],
   "source": [
    "x_normal = list(range(0,10))\n",
    "y_normal = []\n",
    "\n",
    "for i in range(len(x_normal)):\n",
    "    y_normal.append(f(x_normal[i]))\n",
    "\n",
    "print(y_normal)"
   ]
  },
  {
   "cell_type": "markdown",
   "metadata": {},
   "source": [
    "Men, om listen din med x-verdier er en array så kan du gjøre hele utregningen raskere og på mindre linjer, slikt;"
   ]
  },
  {
   "cell_type": "code",
   "execution_count": 4,
   "metadata": {},
   "outputs": [
    {
     "name": "stdout",
     "output_type": "stream",
     "text": [
      "[ 0.          2.          5.65685425 10.39230485 16.         22.36067977\n",
      " 29.39387691 37.04051835 45.254834   54.        ]\n"
     ]
    }
   ],
   "source": [
    "# Numpy sin versjon av range funkjonen, men nå lagrer den verdiene i en numpy array\n",
    "x_array = np.arange(0, 10)\n",
    "y_array = f(x_array)\n",
    "\n",
    "print(y_array)"
   ]
  },
  {
   "cell_type": "markdown",
   "metadata": {},
   "source": [
    "Dette gjør livet ditt mye enklere når du skal regne på saker, for da kan du gjøre masse utregninger samtidig."
   ]
  },
  {
   "cell_type": "markdown",
   "metadata": {},
   "source": [
    "# Lese av filer\n",
    "Når du skal bruke VSCode og lese av filer gjennom Python, så krever det at du enten har filen i samme sted som koden og så kjøre gjennom terminalen eller så kan du gi spesifike koordinater til Python for hvor filen ligger.\n",
    "\n",
    "```py\n",
    "# Importerer os\n",
    "import os\n",
    "# Finner ut hvor filen ligger\n",
    "filepath = os.path.dirname(os.path.abspath(__file__))\n",
    "# Legger til fil navnet så den vet hvilken fil den skal lese av\n",
    "data_path = os.path.join(filepath, 'data.txt')\n",
    "\n",
    "with open(data_path, 'r') as infile:\n",
    "    # Så gjør du det du ønsker med filen\n",
    "    pass\n",
    "```\n",
    "\n",
    "Formatet vi anbefaler får å lese av filer er\n",
    "```py\n",
    "with open(\"randomfile.txt\", 'r') as infile:\n",
    "    # Så gjør du det du ønsker med filen\n",
    "    pass\n",
    "```\n",
    "hvor vi bruker `infile` som en konvensjon for når vi leser av filer og `outfile` for å skrive i filer, og bruker `'r'` eller `'w'` som andre argument om vi skal lese av eller skrive til fil."
   ]
  },
  {
   "cell_type": "markdown",
   "metadata": {},
   "source": [
    "# Plotting\n",
    "For å plotte i python så bruker vi modulen `matplotlib`, så får å importere så skriver vi"
   ]
  },
  {
   "cell_type": "code",
   "execution_count": 8,
   "metadata": {},
   "outputs": [],
   "source": [
    "import matplotlib.pyplot as plt"
   ]
  },
  {
   "cell_type": "markdown",
   "metadata": {},
   "source": [
    "dermed kan vi bruke de basic funksjonene til `matplotlib`:\n",
    "```py\n",
    "plt.plot(x, y)\n",
    "```\n",
    "Tar inn x-verdiene, og y-verdiene til å danne punkter fra hvor til hvor linjene går. Det fins noen fine ekstra argumenter som kan brukes, som `label=\"f(x)`, hvor du kan gi hver funksjon/punkter sitt eget navn, men etterpå så må du bruke funksjonen `plt.legend()` får å vise fram navnene. I det tredje argument så kan du skrive hvilke farge grafen skal være og om det skal være punkter, x-er, punkter med linje også videre. For å se på merkerne så kan du se [her](https://matplotlib.org/stable/api/_as_gen/matplotlib.pyplot.plot.html). Her er noen eksempler\n",
    "```py\n",
    "'b'    # blue markers with default shape\n",
    "'or'   # red circles\n",
    "'-g'   # green solid line\n",
    "'--'   # dashed line with default color\n",
    "'^k:'  # black triangle_up markers connected by a dotted line\n",
    "```\n",
    "For å gi navn på akser så bruker du\n",
    "```py\n",
    "plt.xlabel(\"navn på x aksen\")\n",
    "plt.ylabel(\"navn på y aksen\")\n",
    "```\n",
    "tittel ved\n",
    "```py\n",
    "plt.title(\"Tittel\")\n",
    "```\n",
    "og til slutt for å vise selve plottet\n",
    "```py\n",
    "plt.show()\n",
    "```"
   ]
  },
  {
   "cell_type": "markdown",
   "metadata": {},
   "source": [
    "# Shortcuts\n",
    "## `Ctrl` + `'` / Mac `command` + `*`\n",
    "Det denne shortcut-en gjør er å kommentere alt som blir merkert. Du kan også bruke den for å ukommentere kode eller tekst i VSCode.\n",
    "\n",
    "Så for å bruke merker de linjene du ønsker å kommentere og dermed trykk på `Ctrl`, knappen og så `'`, da kommenterer du ut koden. Som om du legger en kommentar tegn på hver linje."
   ]
  },
  {
   "cell_type": "code",
   "execution_count": 5,
   "metadata": {},
   "outputs": [
    {
     "name": "stdout",
     "output_type": "stream",
     "text": [
      "0.3125\n"
     ]
    }
   ],
   "source": [
    "s = 0\n",
    "M = 3\n",
    "k = 1\n",
    "\n",
    "while k < 3:\n",
    "\ts += 1/(2*k)**2\n",
    "\tk += 1\n",
    "\n",
    "print(s)"
   ]
  },
  {
   "cell_type": "markdown",
   "metadata": {},
   "source": [
    "Merkerer alt koden som er while-loopen og så bruk `Ctrl` + `'`, så får du"
   ]
  },
  {
   "cell_type": "code",
   "execution_count": 6,
   "metadata": {},
   "outputs": [
    {
     "name": "stdout",
     "output_type": "stream",
     "text": [
      "0\n"
     ]
    }
   ],
   "source": [
    "s = 0\n",
    "M = 3\n",
    "k = 1\n",
    "\n",
    "# while k < 3:\n",
    "# \ts += 1/(2*k)**2\n",
    "# \tk += 1\n",
    "\n",
    "print(s)"
   ]
  },
  {
   "cell_type": "markdown",
   "metadata": {},
   "source": [
    "Så kan du merkere koden som er kommentert og bruke `Ctrl` + `'`, så tar du vekk kommentarene"
   ]
  },
  {
   "cell_type": "code",
   "execution_count": 7,
   "metadata": {},
   "outputs": [
    {
     "name": "stdout",
     "output_type": "stream",
     "text": [
      "0.3125\n"
     ]
    }
   ],
   "source": [
    "s = 0\n",
    "M = 3\n",
    "k = 1\n",
    "\n",
    "while k < 3:\n",
    "\ts += 1/(2*k)**2\n",
    "\tk += 1\n",
    "\n",
    "print(s)"
   ]
  }
 ],
 "metadata": {
  "kernelspec": {
   "display_name": "Python 3",
   "language": "python",
   "name": "python3"
  },
  "language_info": {
   "codemirror_mode": {
    "name": "ipython",
    "version": 3
   },
   "file_extension": ".py",
   "mimetype": "text/x-python",
   "name": "python",
   "nbconvert_exporter": "python",
   "pygments_lexer": "ipython3",
   "version": "3.10.4"
  }
 },
 "nbformat": 4,
 "nbformat_minor": 2
}
