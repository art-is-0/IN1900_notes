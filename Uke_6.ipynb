{
 "cells": [
  {
   "cell_type": "markdown",
   "id": "ab536c24",
   "metadata": {},
   "source": [
    "![Testing](Animals/estaban.png)"
   ]
  },
  {
   "cell_type": "markdown",
   "id": "822edf8e",
   "metadata": {},
   "source": [
    "# Oppgave 1\n",
    "Hva skrives ut?\n",
    "What is printed in the terminal window when the following code is run?"
   ]
  },
  {
   "cell_type": "code",
   "execution_count": null,
   "id": "9de3bc61",
   "metadata": {},
   "outputs": [],
   "source": [
    "a = 7\n",
    "b = a\n",
    "a = a + b\n",
    "print(a, b)"
   ]
  },
  {
   "cell_type": "markdown",
   "id": "1c20b72a",
   "metadata": {},
   "source": [
    "# Oppgave 2\n",
    "Hva skrives ut?\n",
    "What is printed when this code is run?"
   ]
  },
  {
   "cell_type": "code",
   "execution_count": null,
   "id": "6acbccbb",
   "metadata": {},
   "outputs": [],
   "source": [
    "r = 1\n",
    "t = 2.0\n",
    "A = r * t\n",
    "print(type(r), type(A))"
   ]
  },
  {
   "cell_type": "markdown",
   "id": "9cbe3d46",
   "metadata": {},
   "source": [
    "# Oppgave 3\n",
    "Hva skrives ut?\n",
    "What is printed when this code is run?"
   ]
  },
  {
   "cell_type": "code",
   "execution_count": null,
   "id": "e3524126",
   "metadata": {},
   "outputs": [],
   "source": [
    "s = 0\n",
    "for n in range(2, 10, 4):\n",
    "    s += n\n",
    "print(s)"
   ]
  },
  {
   "cell_type": "markdown",
   "id": "f9c084f7",
   "metadata": {},
   "source": [
    "# Oppgave 4\n",
    "Hva skrives ut?\n",
    "What is printed in the terminal window when the following code is run?"
   ]
  },
  {
   "cell_type": "code",
   "execution_count": null,
   "id": "63ec966d",
   "metadata": {},
   "outputs": [],
   "source": [
    "numbers = [10, 25, 50, 40, 70]\n",
    "result = []\n",
    "for num in numbers:\n",
    "    if num < 20:\n",
    "        result.append(\"Small\")\n",
    "    elif num < 50:\n",
    "        result.append(\"Medium\")\n",
    "    else:\n",
    "        result.append(\"Large\")\n",
    "    \n",
    "print(result)"
   ]
  },
  {
   "cell_type": "markdown",
   "id": "ce962949",
   "metadata": {},
   "source": [
    "# Oppgave 5\n",
    "Hva skrives ut?\n",
    "What is printed in the terminal window when this code is run?\n"
   ]
  },
  {
   "cell_type": "code",
   "execution_count": null,
   "id": "14723579",
   "metadata": {},
   "outputs": [],
   "source": [
    "C = -20\n",
    "dC = 5\n",
    "Clist = []\n",
    "Flist = []\n",
    "while C <= 40:\n",
    "    Clist.append(C)\n",
    "    Flist.append(2 * C + 30)\n",
    "    C = C + dC\n",
    "    \n",
    "print(Clist[-1], Flist[-1])"
   ]
  },
  {
   "cell_type": "markdown",
   "id": "649623a3",
   "metadata": {},
   "source": [
    "# Oppgave 6 \n",
    "Hva skrives ut?\n",
    "What is printed in the terminal window when the following code is run?"
   ]
  },
  {
   "cell_type": "code",
   "execution_count": null,
   "id": "87bb5e4c",
   "metadata": {},
   "outputs": [],
   "source": [
    "first_names = ['Minch', 'Han', 'Luke']\n",
    "last_names = ['Yoda', 'Solo', 'Skywalker']\n",
    "\n",
    "names = [last + first for first, last in zip(first_names, last_names)]\n",
    "print(names[-1])"
   ]
  },
  {
   "cell_type": "markdown",
   "id": "fa75b5ef",
   "metadata": {},
   "source": [
    "# Oppgave 7\n",
    "Hva skrives ut?\n",
    "What is printed when this code is run?"
   ]
  },
  {
   "cell_type": "code",
   "execution_count": null,
   "id": "1ec30a2d",
   "metadata": {},
   "outputs": [],
   "source": [
    "for i in range(2, 5):\n",
    "    print(i, end = ' ')\n",
    "    for j in range(i - 1):\n",
    "        print(j, end = ' ')\n"
   ]
  },
  {
   "cell_type": "markdown",
   "id": "578ab831",
   "metadata": {},
   "source": [
    "The argument end = ' ' to the print function makes each print end with space (' ') instead of a new\n",
    "line"
   ]
  },
  {
   "cell_type": "markdown",
   "id": "6c83ee4e",
   "metadata": {},
   "source": [
    "# Oppgave 8\n",
    "Gadd ikke mer å kopi paste"
   ]
  },
  {
   "cell_type": "code",
   "execution_count": null,
   "id": "4ca683b7",
   "metadata": {},
   "outputs": [],
   "source": [
    "print(True and (False or True))\n",
    "print(not True or False)\n",
    "print(False or 4 > 3)\n",
    "print(True and (False and True))"
   ]
  },
  {
   "cell_type": "markdown",
   "id": "3871f401",
   "metadata": {},
   "source": [
    "# Oppgave 9"
   ]
  },
  {
   "cell_type": "code",
   "execution_count": null,
   "id": "4becc7d7",
   "metadata": {},
   "outputs": [],
   "source": [
    "hello = \"All work and no play makes Jack a dull boy\"\n",
    "words = hello.split()\n",
    "print(type(words), len(words), words[-2])"
   ]
  },
  {
   "cell_type": "markdown",
   "id": "f03b9721",
   "metadata": {},
   "source": [
    "# Oppgave 10"
   ]
  },
  {
   "cell_type": "code",
   "execution_count": null,
   "id": "5b62ad22",
   "metadata": {},
   "outputs": [],
   "source": [
    "kort = [1, 0, -1]\n",
    "lang = [1, 2, 3, 4, 5]\n",
    "liste = [1, 2, [1], [2], [[1]], [[2]]]\n",
    "\n",
    "print(liste[-2])\n",
    "print(liste[kort[1]])\n",
    "print(liste[kort[2] * lang[2]])\n",
    "print(liste[lang[kort[0]]])"
   ]
  },
  {
   "cell_type": "markdown",
   "id": "79c17cd3",
   "metadata": {},
   "source": [
    "# Oppgave 11"
   ]
  },
  {
   "cell_type": "code",
   "execution_count": null,
   "id": "fdf3c62f",
   "metadata": {},
   "outputs": [],
   "source": [
    "import numpy as np\n",
    "\n",
    "dx = 0.02\n",
    "x = [i * dx for i in range(51)]\n",
    "y = np.linspace(0, 1, 51)\n",
    "\n",
    "print(x[-1] <= 0.5)\n",
    "print(x[50] > 2 * y[50])\n",
    "print(len(y) == len(x))\n",
    "print(len(x) == 100)"
   ]
  },
  {
   "cell_type": "markdown",
   "id": "c3289817",
   "metadata": {},
   "source": [
    "# Oppgave 12\n",
    "- A function can only have one return statement.\n",
    "- Adding two NumPy arrays of length n will give an array of length 2n.\n",
    "- Adding two lists of length n will result in a list of length n.\n",
    "- Adding two NumPy arrays of length n will give an array of length n."
   ]
  },
  {
   "cell_type": "markdown",
   "id": "99a23b8f",
   "metadata": {},
   "source": [
    "# Oppgave 13"
   ]
  },
  {
   "cell_type": "code",
   "execution_count": null,
   "id": "c1ccb4db",
   "metadata": {},
   "outputs": [],
   "source": [
    "import numpy as np\n",
    "\n",
    "def sphere(r):\n",
    "    return 4 / 3 * np.pi * r**3\n",
    "\n",
    "def test_sphere():\n",
    "    r = 1.0\n",
    "    tol = 1e-8\n",
    "    success = abs(sphere(r) - 4 / 3 * np.pi) < tol\n",
    "    msg = 'Something wrong in volume'\n",
    "    assert success, msg\n",
    "    \n",
    "test_sphere()"
   ]
  },
  {
   "cell_type": "markdown",
   "id": "25e5c683",
   "metadata": {},
   "source": [
    "# Oppgave 14\n",
    "What does this function do? You can assume that the argument arg is a list of strings, for\n",
    "instance ['Norway', 'Sweden', 'Denmark']."
   ]
  },
  {
   "cell_type": "code",
   "execution_count": null,
   "id": "77ff3c7e",
   "metadata": {},
   "outputs": [],
   "source": [
    "def f(arg):\n",
    "    m = len(arg[0])\n",
    "    for e in arg[1:]:\n",
    "        if len(e) > m:\n",
    "            m = len(e)  \n",
    "    return m"
   ]
  },
  {
   "cell_type": "markdown",
   "id": "029f74e1",
   "metadata": {},
   "source": [
    "# Oppgave 15"
   ]
  },
  {
   "cell_type": "code",
   "execution_count": null,
   "id": "c870986a",
   "metadata": {},
   "outputs": [],
   "source": [
    "def myfun1(x, y, z = 2):\n",
    "    return x + y + z\n",
    "result = myfun1(2, 3)\n",
    "\n",
    "def myfun2(x, y = 3, z):\n",
    "    return x + y + z\n",
    "result = myfun2(2,3)\n",
    "\n",
    "def myfun3(x, y = 3, z = 2):\n",
    "    return x + y + z\n",
    "result = myfun3(x = 2, z = 1, y = 0.5)\n",
    "\n",
    "def myfun4(x, y, z):\n",
    "    return x + y + z\n",
    "result = myfun4(1, y = 2, 1)"
   ]
  },
  {
   "cell_type": "markdown",
   "id": "4676e7af",
   "metadata": {},
   "source": [
    "# Oppgave 16"
   ]
  },
  {
   "cell_type": "code",
   "execution_count": null,
   "id": "c9d5045a",
   "metadata": {},
   "outputs": [],
   "source": [
    "import sys\n",
    "A = [['-1','0','1'],['0','0','0'],['10','9','8']]\n",
    "try:\n",
    "    b = int(A[2][-1])\n",
    "except IndexError:\n",
    "    print(f'A has length {len(A):d}')\n",
    "    sys.exit(1)\n",
    "except TypeError:\n",
    "    print(f'Cannot convert {A[2]} to int')\n",
    "    sys.exit(1)\n",
    "    \n",
    "print(b)"
   ]
  },
  {
   "cell_type": "markdown",
   "id": "a9f49ae6",
   "metadata": {},
   "source": [
    "# Oppgave 17\n",
    "```txt\n",
    "Saturday 21 September 2024 1 USD = 10.484 NOK\n",
    "Friday 20 September 2024 1 USD = 10.486 NOK\n",
    "Thursday 19 September 2024 1 USD = 10.499 NOK\n",
    "Wednesday 18 September 2024 1 USD = 10.584 NOK\n",
    "Tuesday 17 September 2024 1 USD = 10.605 NOK\n",
    "Monday 16 September 2024 1 USD = 10.596 NOK\n",
    "Sunday 15 September 2024 1 USD = 10.645 NOK\n",
    "```\n",
    "We want the code below to read such a file and create two lists, one containing the dates as\n",
    "tuples and one containing the corresponding exchange rates. One line is missing in the code."
   ]
  },
  {
   "cell_type": "code",
   "execution_count": null,
   "id": "d96af14c",
   "metadata": {},
   "outputs": [],
   "source": [
    "dates = []\n",
    "rates = []\n",
    "with open('USD.txt') as infile:\n",
    "    for line in infile:\n",
    "        words = line.split()\n",
    "        dates.append((int(words[1]), words[2], int(words[3])))\n",
    "        # rates.append(float(words[-2]))\n",
    "        # rates.append(float(line[-1]))\n",
    "        # rates = rates + float(words[-1])\n",
    "        # rates.append(float(words[-1]))"
   ]
  },
  {
   "cell_type": "markdown",
   "id": "2dbc999e",
   "metadata": {},
   "source": [
    "# Oppgave 18"
   ]
  },
  {
   "cell_type": "code",
   "execution_count": null,
   "id": "3761acef",
   "metadata": {},
   "outputs": [],
   "source": [
    "def odd_sum(n):\n",
    "    # s = list(range(0, n+1, 2)\n",
    "    # s = list(range(1, n+1)\n",
    "    # s = list(range(n+1, 2)\n",
    "    # s = list(range(1, n+1, 2)\n",
    "    return sum(s)\n",
    "\n",
    "def test_odd_sum():\n",
    "    expected = 1 + 3 + 5\n",
    "    computed = odd_sum(5)\n",
    "    msg = f'expected {expected}, got {computed}'\n",
    "    assert expected == computed, msg"
   ]
  },
  {
   "cell_type": "markdown",
   "id": "8eeea450",
   "metadata": {},
   "source": [
    "# Oppgave 19\n",
    "$$\n",
    "x^2-2=0\n",
    "$$"
   ]
  },
  {
   "cell_type": "code",
   "execution_count": null,
   "id": "45b0d0a6",
   "metadata": {},
   "outputs": [],
   "source": [
    "def Newton(f, df, x, tol = 1e-7):\n",
    "    while abs(f(x)) > tol:\n",
    "        x = x - f(x)/df(x)\n",
    "    return x, f(x)\n",
    "\n",
    "# x0, f = Newton(f(x) = x**2-2, df(x) = 2*x, 2.0)\n",
    "# x0, f = Newton(lambda x: x**2-2, lambda x: 2*x, 2.0)\n",
    "# x0, f = Newton(f = x**2-2, df = 2*x, 2.0)\n",
    "# x0, f = Newton(x**2-2, 2*x, 2.0, 1e-4)"
   ]
  },
  {
   "cell_type": "markdown",
   "id": "b5cc49b2",
   "metadata": {},
   "source": [
    "# Oppgave 20"
   ]
  },
  {
   "cell_type": "code",
   "execution_count": null,
   "id": "d943457b",
   "metadata": {},
   "outputs": [],
   "source": [
    "def freq_lists(dna_list):\n",
    "    n = len(dna_list[0])\n",
    "    A = [0]*n\n",
    "    T = [0]*n\n",
    "    G = [0]*n\n",
    "    C = [0]*n\n",
    "    for dna in dna_list:\n",
    "        index = 0\n",
    "        for base in dna:\n",
    "            if base == 'A':\n",
    "                A[index] += 1\n",
    "            elif base == 'C':\n",
    "                C[index] += 1\n",
    "            elif base == 'G':\n",
    "                G[index] += 1\n",
    "            elif base == 'T':\n",
    "                T[index] += 1\n",
    "            index += 1\n",
    "    return A, C, G, T\n",
    "\n",
    "dna_list = ['TCGCT', 'GGACT', 'GCTGC']\n",
    "\n",
    "A, C, G, T = freq_lists(dna_list)\n",
    "print(G)"
   ]
  }
 ],
 "metadata": {
  "kernelspec": {
   "display_name": "Python 3",
   "language": "python",
   "name": "python3"
  },
  "language_info": {
   "codemirror_mode": {
    "name": "ipython",
    "version": 3
   },
   "file_extension": ".py",
   "mimetype": "text/x-python",
   "name": "python",
   "nbconvert_exporter": "python",
   "pygments_lexer": "ipython3",
   "version": "3.10.5"
  }
 },
 "nbformat": 4,
 "nbformat_minor": 5
}
