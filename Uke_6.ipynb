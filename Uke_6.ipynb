{
 "cells": [
  {
   "cell_type": "markdown",
   "id": "ab536c24",
   "metadata": {},
   "source": [
    "![Testing](Animals/estaban.png)"
   ]
  },
  {
   "cell_type": "markdown",
   "id": "822edf8e",
   "metadata": {},
   "source": [
    "# Oppgave 1\n",
    "Hva skrives ut?\n",
    "What is printed in the terminal window when the following code is run?"
   ]
  },
  {
   "cell_type": "code",
   "execution_count": 1,
   "id": "9de3bc61",
   "metadata": {},
   "outputs": [
    {
     "name": "stdout",
     "output_type": "stream",
     "text": [
      "14 7\n"
     ]
    }
   ],
   "source": [
    "# a = 7\n",
    "a = 7\n",
    "# b = a = 7\n",
    "b = a\n",
    "# a = a + b = 7 + 7 = 14\n",
    "a = a + b\n",
    "# 14, 7\n",
    "print(a, b)"
   ]
  },
  {
   "cell_type": "markdown",
   "id": "1c20b72a",
   "metadata": {},
   "source": [
    "# Oppgave 2\n",
    "Hva skrives ut?\n",
    "What is printed when this code is run?"
   ]
  },
  {
   "cell_type": "code",
   "execution_count": 2,
   "id": "6acbccbb",
   "metadata": {},
   "outputs": [
    {
     "name": "stdout",
     "output_type": "stream",
     "text": [
      "<class 'int'> <class 'float'>\n"
     ]
    }
   ],
   "source": [
    "# r = int\n",
    "r = 1\n",
    "# t = float\n",
    "t = 2.0\n",
    "# A = int * float = float\n",
    "A = r * t\n",
    "# int, float\n",
    "print(type(r), type(A))"
   ]
  },
  {
   "cell_type": "markdown",
   "id": "9cbe3d46",
   "metadata": {},
   "source": [
    "# Oppgave 3\n",
    "Hva skrives ut?\n",
    "What is printed when this code is run?"
   ]
  },
  {
   "cell_type": "code",
   "execution_count": 3,
   "id": "e3524126",
   "metadata": {},
   "outputs": [
    {
     "name": "stdout",
     "output_type": "stream",
     "text": [
      "8\n"
     ]
    },
    {
     "data": {
      "text/plain": [
       "'\\ns = 0\\n\\nn: 2\\ns = 0 + 2 = 2\\nn: 2+4 = 6\\ns = 2 + 6 = 8\\nn: 10\\n----\\n\\ns = 8\\n'"
      ]
     },
     "execution_count": 3,
     "metadata": {},
     "output_type": "execute_result"
    }
   ],
   "source": [
    "s = 0\n",
    "for n in range(2, 10, 4):\n",
    "    s += n\n",
    "print(s)\n",
    "\"\"\"\n",
    "s = 0\n",
    "\n",
    "n: 2\n",
    "s = 0 + 2 = 2\n",
    "n: 2+4 = 6\n",
    "s = 2 + 6 = 8\n",
    "n: 10\n",
    "----\n",
    "\n",
    "s = 8\n",
    "\"\"\""
   ]
  },
  {
   "cell_type": "markdown",
   "id": "f9c084f7",
   "metadata": {},
   "source": [
    "# Oppgave 4\n",
    "Hva skrives ut?\n",
    "What is printed in the terminal window when the following code is run?"
   ]
  },
  {
   "cell_type": "code",
   "execution_count": 4,
   "id": "63ec966d",
   "metadata": {},
   "outputs": [
    {
     "name": "stdout",
     "output_type": "stream",
     "text": [
      "['Small', 'Medium', 'Large', 'Medium', 'Large']\n"
     ]
    }
   ],
   "source": [
    "numbers = [10, 25, 50, 40, 70]\n",
    "result = []\n",
    "for num in numbers:\n",
    "    if num < 20:\n",
    "        result.append(\"Small\")\n",
    "    elif num < 50:\n",
    "        result.append(\"Medium\")\n",
    "    else:\n",
    "        result.append(\"Large\")\n",
    "    \n",
    "print(result)"
   ]
  },
  {
   "cell_type": "markdown",
   "id": "ce962949",
   "metadata": {},
   "source": [
    "# Oppgave 5\n",
    "Hva skrives ut?\n",
    "What is printed in the terminal window when this code is run?\n"
   ]
  },
  {
   "cell_type": "code",
   "execution_count": 5,
   "id": "14723579",
   "metadata": {},
   "outputs": [
    {
     "name": "stdout",
     "output_type": "stream",
     "text": [
      "40 110\n"
     ]
    }
   ],
   "source": [
    "C = -20\n",
    "dC = 5\n",
    "Clist = []\n",
    "Flist = []\n",
    "while C <= 40:\n",
    "    Clist.append(C)\n",
    "    Flist.append(2 * C + 30)\n",
    "    C = C + dC\n",
    "    \n",
    "\"\"\"\n",
    "C = -20\n",
    "dC = 5\n",
    "\n",
    "-20 <= 40\n",
    "Clist = [-20]\n",
    "Flist = [-10]\n",
    "C = -15\n",
    "\n",
    "-15 <= 40\n",
    "Clist = [-20, -15]\n",
    "Flist = [-10, 0]\n",
    "C = -10\n",
    "\n",
    "-10 <= 40\n",
    "Clist = [-20, -15, -10]\n",
    "Flist = [-10, 0, 10]\n",
    "C = -5\n",
    "\n",
    "-5 <= 40\n",
    "Clist = [-20, -15, -10, -5]\n",
    "Flist = [-10, 0, 10, 20,]\n",
    "C = 0\n",
    "\n",
    ".\n",
    ".\n",
    ".\n",
    "C = 40\n",
    "Clist[-1] = 40\n",
    "Flist[-1] = 2 * C + 30 = 110\n",
    "\n",
    "\n",
    "\"\"\"\n",
    "print(Clist[-1], Flist[-1])"
   ]
  },
  {
   "cell_type": "markdown",
   "id": "649623a3",
   "metadata": {},
   "source": [
    "# Oppgave 6 \n",
    "Hva skrives ut?\n",
    "What is printed in the terminal window when the following code is run?"
   ]
  },
  {
   "cell_type": "code",
   "execution_count": 6,
   "id": "87bb5e4c",
   "metadata": {},
   "outputs": [
    {
     "name": "stdout",
     "output_type": "stream",
     "text": [
      "SkywalkerLuke\n",
      "('Minch', 'Yoda')\n",
      "('Han', 'Solo')\n",
      "('Luke', 'Skywalker')\n"
     ]
    }
   ],
   "source": [
    "first_names = ['Minch', 'Han', 'Luke']\n",
    "last_names = ['Yoda', 'Solo', 'Skywalker']\n",
    "\n",
    "names = [last + first for first, last in zip(first_names, last_names)]\n",
    "print(names[-1])\n",
    "\n",
    "names = []\n",
    "for i in zip(first_names, last_names):\n",
    "    # names.append(last + first)\n",
    "    print(i)\n"
   ]
  },
  {
   "cell_type": "markdown",
   "id": "fa75b5ef",
   "metadata": {},
   "source": [
    "# Oppgave 7\n",
    "Hva skrives ut?\n",
    "What is printed when this code is run?"
   ]
  },
  {
   "cell_type": "code",
   "execution_count": 7,
   "id": "1ec30a2d",
   "metadata": {},
   "outputs": [
    {
     "name": "stdout",
     "output_type": "stream",
     "text": [
      "2 0 3 0 1 4 0 1 2 "
     ]
    },
    {
     "data": {
      "text/plain": [
       "'\\ni: 2\\n2\\n    j: 0 -> 2-1 = 1\\n    0\\ni: 3\\n3 \\n    j: 0 -> 3-1 = 2\\n    0\\n    1\\n.\\n.\\n\\n\\n'"
      ]
     },
     "execution_count": 7,
     "metadata": {},
     "output_type": "execute_result"
    }
   ],
   "source": [
    "for i in range(2, 5):\n",
    "    print(i, end = ' ')\n",
    "    for j in range(i - 1):\n",
    "        print(j, end = ' ')\n",
    "\n",
    "# 20 301 4012\n",
    "\"\"\"\n",
    "i: 2\n",
    "2\n",
    "    j: 0 -> 2-1 = 1\n",
    "    0\n",
    "i: 3\n",
    "3 \n",
    "    j: 0 -> 3-1 = 2\n",
    "    0\n",
    "    1\n",
    ".\n",
    ".\n",
    "\n",
    "\n",
    "\"\"\""
   ]
  },
  {
   "cell_type": "markdown",
   "id": "578ab831",
   "metadata": {},
   "source": [
    "The argument end = ' ' to the print function makes each print end with space (' ') instead of a new\n",
    "line"
   ]
  },
  {
   "cell_type": "markdown",
   "id": "6c83ee4e",
   "metadata": {},
   "source": [
    "# Oppgave 8\n",
    "Gadd ikke mer å kopi paste"
   ]
  },
  {
   "cell_type": "code",
   "execution_count": 8,
   "id": "4ca683b7",
   "metadata": {},
   "outputs": [
    {
     "name": "stdout",
     "output_type": "stream",
     "text": [
      "True\n",
      "False\n",
      "True\n",
      "False\n"
     ]
    }
   ],
   "source": [
    "print(True and (False or True))  # True\n",
    "print(not True or False) # False or False = False\n",
    "print(False or 4 > 3) # True\n",
    "print(True and (False and True)) # False"
   ]
  },
  {
   "cell_type": "markdown",
   "id": "3871f401",
   "metadata": {},
   "source": [
    "# Oppgave 9"
   ]
  },
  {
   "cell_type": "code",
   "execution_count": 9,
   "id": "4becc7d7",
   "metadata": {},
   "outputs": [
    {
     "name": "stdout",
     "output_type": "stream",
     "text": [
      "<class 'list'> 10 dull\n"
     ]
    }
   ],
   "source": [
    "hello = \"All work and no play makes Jack a dull boy\"\n",
    "words = hello.split()\n",
    "# words = ['All', 'work', 'and', 'no', 'play', 'makes', 'Jack', 'a', 'dull', 'boy']\n",
    "print(type(words), len(words), words[-2])"
   ]
  },
  {
   "cell_type": "markdown",
   "id": "f03b9721",
   "metadata": {},
   "source": [
    "# Oppgave 10"
   ]
  },
  {
   "cell_type": "code",
   "execution_count": 10,
   "id": "5b62ad22",
   "metadata": {},
   "outputs": [
    {
     "name": "stdout",
     "output_type": "stream",
     "text": [
      "[[1]]\n",
      "1\n",
      "[2]\n",
      "[1]\n",
      "\n",
      " [[1]]\n",
      "[1]\n",
      "[1]\n",
      "1\n"
     ]
    }
   ],
   "source": [
    "kort = [1, 0, -1]\n",
    "lang = [1, 2, 3, 4, 5]\n",
    "liste = [1, 2, [1], [2], [[1]], [[2]]]\n",
    "\n",
    "print(liste[-2]) #\n",
    "print(liste[kort[1]])\n",
    "print(liste[kort[2] * lang[2]])\n",
    "print(liste[lang[kort[0]]])\n",
    "\n",
    "print(\"\\n\", [[1]])\n",
    "print([1])\n",
    "a = [[1]]\n",
    "print(a[0])\n",
    "print(a[0][0])"
   ]
  },
  {
   "cell_type": "markdown",
   "id": "79c17cd3",
   "metadata": {},
   "source": [
    "# Oppgave 11"
   ]
  },
  {
   "cell_type": "code",
   "execution_count": 11,
   "id": "fdf3c62f",
   "metadata": {},
   "outputs": [
    {
     "name": "stdout",
     "output_type": "stream",
     "text": [
      "False\n",
      "False\n",
      "True\n",
      "False\n"
     ]
    }
   ],
   "source": [
    "import numpy as np\n",
    "\n",
    "dx = 0.02\n",
    "x = [i * dx for i in range(51)]\n",
    "y = np.linspace(0, 1, 51)\n",
    "\n",
    "print(x[-1] <= 0.5) # False\n",
    "print(x[50] > 2 * y[50]) # False\n",
    "print(len(y) == len(x)) # True\n",
    "print(len(x) == 100)"
   ]
  },
  {
   "cell_type": "markdown",
   "id": "c3289817",
   "metadata": {},
   "source": [
    "# Oppgave 12\n",
    "- A function can only have one return statement.\n",
    "- Adding two NumPy arrays of length n will give an array of length 2n.\n",
    "- Adding two lists of length n will result in a list of length n.\n",
    "- Adding two NumPy arrays of length n will give an array of length n."
   ]
  },
  {
   "cell_type": "markdown",
   "id": "99a23b8f",
   "metadata": {},
   "source": [
    "# Oppgave 13"
   ]
  },
  {
   "cell_type": "code",
   "execution_count": 12,
   "id": "c1ccb4db",
   "metadata": {},
   "outputs": [],
   "source": [
    "import numpy as np\n",
    "\n",
    "def sphere(r):\n",
    "    return 4 / 3 * np.pi * r**3\n",
    "\n",
    "def test_sphere():\n",
    "    r = 1.0\n",
    "    tol = 1e-8\n",
    "    # 4/3 * pi * 1**3 = 4/3 * pi\n",
    "    success = abs(sphere(r) - 4 / 3 * np.pi) < tol\n",
    "    msg = 'Something wrong in volume'\n",
    "    assert success, msg\n",
    "    \n",
    "test_sphere()"
   ]
  },
  {
   "cell_type": "markdown",
   "id": "25e5c683",
   "metadata": {},
   "source": [
    "# Oppgave 14\n",
    "What does this function do? You can assume that the argument arg is a list of strings, for\n",
    "instance ['Norway', 'USA', 'Denmark']."
   ]
  },
  {
   "cell_type": "code",
   "execution_count": 13,
   "id": "77ff3c7e",
   "metadata": {},
   "outputs": [
    {
     "name": "stdout",
     "output_type": "stream",
     "text": [
      "7\n"
     ]
    },
    {
     "data": {
      "text/plain": [
       "'\\nm = 6\\ne = USA:\\n3 > 6: False\\n\\ne = Denmark:\\n7 > 6: True\\nm = 7\\n\\nreturn m = 7\\n'"
      ]
     },
     "execution_count": 13,
     "metadata": {},
     "output_type": "execute_result"
    }
   ],
   "source": [
    "def f(arg):\n",
    "    m = len(arg[0])\n",
    "    for e in arg[1:]:\n",
    "        if len(e) > m:\n",
    "            m = len(e)  \n",
    "    return m\n",
    "\n",
    "lst = ['Norway', 'USA', 'Denmark']\n",
    "print(f(lst))\n",
    "\"\"\"\n",
    "m = 6\n",
    "e = USA:\n",
    "3 > 6: False\n",
    "\n",
    "e = Denmark:\n",
    "7 > 6: True\n",
    "m = 7\n",
    "\n",
    "return m = 7\n",
    "\"\"\""
   ]
  },
  {
   "cell_type": "markdown",
   "id": "029f74e1",
   "metadata": {},
   "source": [
    "# Oppgave 15"
   ]
  },
  {
   "cell_type": "code",
   "execution_count": 14,
   "id": "c870986a",
   "metadata": {},
   "outputs": [
    {
     "ename": "SyntaxError",
     "evalue": "non-default argument follows default argument (1805624389.py, line 7)",
     "output_type": "error",
     "traceback": [
      "\u001b[1;36m  Cell \u001b[1;32mIn[14], line 7\u001b[1;36m\u001b[0m\n\u001b[1;33m    def myfun2(x, y = 3, z):\u001b[0m\n\u001b[1;37m                         ^\u001b[0m\n\u001b[1;31mSyntaxError\u001b[0m\u001b[1;31m:\u001b[0m non-default argument follows default argument\n"
     ]
    }
   ],
   "source": [
    "\n",
    "# Riktig\n",
    "def myfun1(x, y, z = 2):\n",
    "    return x + y + z\n",
    "result = myfun1(2, 3)\n",
    "\n",
    "# Kan ikke ha en verdi uten default verdi etter en med default verdi\n",
    "def myfun2(x, y = 3, z):\n",
    "    return x + y + z\n",
    "result = myfun2(2,3)\n",
    "\n",
    "# Fungerer\n",
    "def myfun3(x, y = 3, z = 2):\n",
    "    return x + y + z\n",
    "result = myfun3(x = 2, z = 1, y = 0.5)\n",
    "\n",
    "# Må ha argumenter uten variabel definisjon først, og dermed kan man ha y=2\n",
    "def myfun4(x, y, z):\n",
    "    return x + y + z\n",
    "result = myfun4(1, y = 2, 1)\n"
   ]
  },
  {
   "cell_type": "markdown",
   "id": "4676e7af",
   "metadata": {},
   "source": [
    "# Oppgave 16"
   ]
  },
  {
   "cell_type": "code",
   "execution_count": null,
   "id": "c9d5045a",
   "metadata": {},
   "outputs": [
    {
     "name": "stdout",
     "output_type": "stream",
     "text": [
      "8\n"
     ]
    }
   ],
   "source": [
    "import sys\n",
    "A = [['-1','0','1'],['0','0','0'],['10','9','8']]\n",
    "try:\n",
    "    b = int(A[2][-1])\n",
    "    # b = int(\"8\")\n",
    "except IndexError:\n",
    "    print(f'A has length {len(A):d}')\n",
    "    sys.exit(1)\n",
    "except TypeError:\n",
    "    print(f'Cannot convert {A[2]} to int')\n",
    "    sys.exit(1)\n",
    "    \n",
    "print(b)"
   ]
  },
  {
   "cell_type": "markdown",
   "id": "a9f49ae6",
   "metadata": {},
   "source": [
    "# Oppgave 17\n",
    "```txt\n",
    "Saturday 21 September 2024 1 USD = 10.484 NOK\n",
    "Friday 20 September 2024 1 USD = 10.486 NOK\n",
    "Thursday 19 September 2024 1 USD = 10.499 NOK\n",
    "Wednesday 18 September 2024 1 USD = 10.584 NOK\n",
    "Tuesday 17 September 2024 1 USD = 10.605 NOK\n",
    "Monday 16 September 2024 1 USD = 10.596 NOK\n",
    "Sunday 15 September 2024 1 USD = 10.645 NOK\n",
    "```\n",
    "We want the code below to read such a file and create two lists, one containing the dates as\n",
    "tuples and one containing the corresponding exchange rates. One line is missing in the code."
   ]
  },
  {
   "cell_type": "code",
   "execution_count": null,
   "id": "d96af14c",
   "metadata": {},
   "outputs": [],
   "source": [
    "dates = []\n",
    "rates = []\n",
    "with open('USD.txt') as infile:\n",
    "    for line in infile:\n",
    "        words = line.split()\n",
    "        # word = [\"Saturday\", \"21\", \"September\", \"2024\", \"1, \"USD\", \"=\", \"10.484\", \"NOK\"]\n",
    "        dates.append((int(words[1]), words[2], int(words[3])))\n",
    "        rates.append(float(words[-2]))\n",
    "        # rates.append(float(line[-1]))\n",
    "        # rates = rates + float(words[-1])\n",
    "        # rates.append(float(words[-1]))"
   ]
  },
  {
   "cell_type": "markdown",
   "id": "2dbc999e",
   "metadata": {},
   "source": [
    "# Oppgave 18"
   ]
  },
  {
   "cell_type": "code",
   "execution_count": null,
   "id": "3761acef",
   "metadata": {},
   "outputs": [],
   "source": [
    "def odd_sum(n):\n",
    "    # s = list(range(0, n+1, 2)\n",
    "    # s = list(range(1, n+1)\n",
    "    # s = list(range(n+1, 2)\n",
    "    s = list(range(1, n+1, 2))\n",
    "    return sum(s)\n",
    "\n",
    "def test_odd_sum():\n",
    "    expected = 1 + 3 + 5\n",
    "    computed = odd_sum(5)\n",
    "    msg = f'expected {expected}, got {computed}'\n",
    "    assert expected == computed, msg"
   ]
  },
  {
   "cell_type": "markdown",
   "id": "8eeea450",
   "metadata": {},
   "source": [
    "# Oppgave 19\n",
    "$$\n",
    "x^2-2=0\n",
    "$$"
   ]
  },
  {
   "cell_type": "code",
   "execution_count": null,
   "id": "45b0d0a6",
   "metadata": {},
   "outputs": [],
   "source": [
    "def Newton(f, df, x, tol = 1e-7):\n",
    "    while abs(f(x)) > tol:\n",
    "        x = x - f(x)/df(x)\n",
    "    return x, f(x)\n",
    "\n",
    "def f(x):\n",
    "    return x**2-2\n",
    "# x0, f = Newton(f(x) = x**2-2, df(x) = 2*x, 2.0)\n",
    "x0, f = Newton(lambda x: x**2-2, lambda x: 2*x, 2.0)\n",
    "# x0, f = Newton(f = x**2-2, df = 2*x, 2.0)\n",
    "# x0, f = Newton(x**2-2, 2*x, 2.0, 1e-4)"
   ]
  },
  {
   "cell_type": "markdown",
   "id": "b5cc49b2",
   "metadata": {},
   "source": [
    "# Oppgave 20"
   ]
  },
  {
   "cell_type": "code",
   "execution_count": null,
   "id": "d943457b",
   "metadata": {},
   "outputs": [],
   "source": [
    "def freq_lists(dna_list):\n",
    "    n = len(dna_list[0])\n",
    "    A = [0]*n\n",
    "    T = [0]*n\n",
    "    G = [0]*n\n",
    "    C = [0]*n\n",
    "    for dna in dna_list:\n",
    "        index = 0\n",
    "        for base in dna:\n",
    "            if base == 'A':\n",
    "                A[index] += 1\n",
    "            elif base == 'C':\n",
    "                C[index] += 1\n",
    "            elif base == 'G':\n",
    "                G[index] += 1\n",
    "            elif base == 'T':\n",
    "                T[index] += 1\n",
    "            index += 1\n",
    "    return A, C, G, T\n",
    "\n",
    "dna_list = ['TCGCT', 'GGACT', 'GCTGC']\n",
    "\n",
    "A, C, G, T = freq_lists(dna_list)\n",
    "print(G)"
   ]
  }
 ],
 "metadata": {
  "kernelspec": {
   "display_name": "Python 3",
   "language": "python",
   "name": "python3"
  },
  "language_info": {
   "codemirror_mode": {
    "name": "ipython",
    "version": 3
   },
   "file_extension": ".py",
   "mimetype": "text/x-python",
   "name": "python",
   "nbconvert_exporter": "python",
   "pygments_lexer": "ipython3",
   "version": "3.10.4"
  }
 },
 "nbformat": 4,
 "nbformat_minor": 5
}
